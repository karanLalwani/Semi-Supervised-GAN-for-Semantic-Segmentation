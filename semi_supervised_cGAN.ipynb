{
 "cells": [
  {
   "cell_type": "code",
   "execution_count": null,
   "metadata": {
    "colab": {
     "base_uri": "https://localhost:8080/",
     "height": 1000
    },
    "colab_type": "code",
    "id": "IYP_xy7mpiBh",
    "outputId": "b9aa0daf-6f08-4c24-b9a0-b36322b65b58"
   },
   "outputs": [],
   "source": [
    "import zipfile\n",
    "with zipfile.ZipFile(\"PodocyteDataset.zip\", 'r') as zip_ref:\n",
    "    zip_ref.extractall(\"D:IS\")"
   ]
  },
  {
   "cell_type": "code",
   "execution_count": null,
   "metadata": {
    "colab": {
     "base_uri": "https://localhost:8080/",
     "height": 52
    },
    "colab_type": "code",
    "id": "3bharsf00yrT",
    "outputId": "2dada804-18b9-4044-b582-e76442396306"
   },
   "outputs": [],
   "source": [
    "import os\n",
    "imageDir = \"PodocyteDataset/training/images\"\n",
    "annotationDir = \"PodocyteDataset/training/masks\"\n",
    "# holdoutImageDir = \"PodocyteDataset/test/images\"\n",
    "# holdoutAnnotationDir = \"PodocyteDataset/test/masks\"\n",
    "NUM_CLASSES = 4\n",
    "height, width = 256, 256\n",
    "\n",
    "%matplotlib inline\n",
    "%load_ext autoreload\n",
    "%autoreload 2"
   ]
  },
  {
   "cell_type": "code",
   "execution_count": null,
   "metadata": {},
   "outputs": [],
   "source": [
    "print(len(os.listdir(imageDir)))\n",
    "# print(len(os.listdir(holdoutImageDir)))"
   ]
  },
  {
   "cell_type": "code",
   "execution_count": null,
   "metadata": {
    "colab": {
     "base_uri": "https://localhost:8080/",
     "height": 81
    },
    "colab_type": "code",
    "id": "x-6EICx0kpiu",
    "outputId": "4a5be5f6-d54e-4711-dea2-09586d5e24b2"
   },
   "outputs": [],
   "source": [
    "import numpy as np\n",
    "import matplotlib.pyplot as plt\n",
    "from keras.optimizers import Adam"
   ]
  },
  {
   "cell_type": "code",
   "execution_count": null,
   "metadata": {
    "colab": {
     "base_uri": "https://localhost:8080/",
     "height": 142
    },
    "colab_type": "code",
    "id": "KnGUK3t0E_yI",
    "outputId": "4ba04fa8-e346-41e2-94b5-a041771587b0"
   },
   "outputs": [],
   "source": [
    "# from keras import backend as K\n",
    "# K.clear_session()"
   ]
  },
  {
   "cell_type": "markdown",
   "metadata": {
    "colab_type": "text",
    "id": "uM3g3mRz-oO0"
   },
   "source": [
    "## Create Generator"
   ]
  },
  {
   "cell_type": "code",
   "execution_count": null,
   "metadata": {},
   "outputs": [],
   "source": [
    "from generator import Generator"
   ]
  },
  {
   "cell_type": "code",
   "execution_count": null,
   "metadata": {
    "colab": {
     "base_uri": "https://localhost:8080/",
     "height": 1000
    },
    "colab_type": "code",
    "id": "mVvPOxL1_ASE",
    "outputId": "f2507fda-8561-44dd-ca35-23db6974cb53"
   },
   "outputs": [],
   "source": [
    "gen =  Generator((height, width, 3), NUM_CLASSES)\n",
    "deepLab = gen.deepLab()\n",
    "deepLab.summary()"
   ]
  },
  {
   "cell_type": "markdown",
   "metadata": {
    "colab_type": "text",
    "id": "h9jzSgGG-vJY"
   },
   "source": [
    "## Create Discriminator"
   ]
  },
  {
   "cell_type": "code",
   "execution_count": null,
   "metadata": {},
   "outputs": [],
   "source": [
    "from discriminator import Discriminator"
   ]
  },
  {
   "cell_type": "code",
   "execution_count": null,
   "metadata": {
    "colab": {
     "base_uri": "https://localhost:8080/",
     "height": 846
    },
    "colab_type": "code",
    "id": "DCZoCmq6BfI4",
    "outputId": "46ba90c2-1ed4-4f10-b2e9-455044d46d30"
   },
   "outputs": [],
   "source": [
    "dis = Discriminator((height, width, 3), (height, width, 1))\n",
    "conditionalFCD = dis.CFCDiscriminator()\n",
    "conditionalFCD.summary()"
   ]
  },
  {
   "cell_type": "code",
   "execution_count": null,
   "metadata": {},
   "outputs": [],
   "source": [
    "conditionalFCD.compile(loss='binary_crossentropy', optimizer=Adam(5e-4, beta_1=0.9, beta_2=0.99), metrics=['accuracy'])"
   ]
  },
  {
   "cell_type": "markdown",
   "metadata": {
    "colab_type": "text",
    "id": "So2HdW2i-5lq"
   },
   "source": [
    "## Combine Model"
   ]
  },
  {
   "cell_type": "code",
   "execution_count": null,
   "metadata": {},
   "outputs": [],
   "source": [
    "from generative_adversarial_network import GAN"
   ]
  },
  {
   "cell_type": "code",
   "execution_count": null,
   "metadata": {
    "colab": {
     "base_uri": "https://localhost:8080/",
     "height": 386
    },
    "colab_type": "code",
    "id": "E3ZU3DCIkpjX",
    "outputId": "fb1ab50a-00d9-4c07-be60-a0c485da4a67"
   },
   "outputs": [],
   "source": [
    "cGAN = GAN(deepLab, conditionalFCD, height, width)\n",
    "combined_model = cGAN.supervisedCGAN()\n",
    "combined_model.summary()"
   ]
  },
  {
   "cell_type": "code",
   "execution_count": null,
   "metadata": {},
   "outputs": [],
   "source": [
    "combined_model.compile(loss=['binary_crossentropy', 'categorical_crossentropy'], loss_weights=[0.001,1], optimizer=Adam(5e-5))"
   ]
  },
  {
   "cell_type": "markdown",
   "metadata": {
    "colab_type": "text",
    "id": "So70B7e4_uvq"
   },
   "source": [
    "## Image Preprocessing"
   ]
  },
  {
   "cell_type": "markdown",
   "metadata": {
    "colab_type": "text",
    "id": "G0EtTPu2_-XC"
   },
   "source": [
    "### Test Train Split"
   ]
  },
  {
   "cell_type": "code",
   "execution_count": null,
   "metadata": {},
   "outputs": [],
   "source": [
    "from preprocessing import Preprocessing"
   ]
  },
  {
   "cell_type": "code",
   "execution_count": null,
   "metadata": {
    "colab": {
     "base_uri": "https://localhost:8080/",
     "height": 70
    },
    "colab_type": "code",
    "id": "vKJipIh3rbYx",
    "outputId": "5ff6a28a-44e5-4c36-c0c8-b75dcdf44e6c"
   },
   "outputs": [],
   "source": [
    "%%time\n",
    "preProc = Preprocessing(height, width, NUM_CLASSES)\n",
    "trainImages, valImages, testImages = preProc.get_test_train_filenames(imageDir, 0.10, 0.10)\n",
    "print(len(trainImages), len(valImages), len(testImages))"
   ]
  },
  {
   "cell_type": "markdown",
   "metadata": {},
   "source": [
    "### Data visualization"
   ]
  },
  {
   "cell_type": "code",
   "execution_count": null,
   "metadata": {
    "colab": {
     "base_uri": "https://localhost:8080/",
     "height": 867
    },
    "colab_type": "code",
    "id": "698rT1vxrbcS",
    "outputId": "4db8fda6-77a9-4e49-84a9-cb8369aa2723"
   },
   "outputs": [],
   "source": [
    "_, axs = plt.subplots(3, 2, figsize=(15, 15))\n",
    "for n, d in enumerate(preProc.data_gen(trainImages, imageDir, annotationDir, 1)):\n",
    "    _, h, w, c = d[0].shape\n",
    "    axs[n][0].imshow(d[0].reshape(h, w, c))\n",
    "    axs[n][1].imshow(np.argmax(d[1], axis=3).reshape(h, w))\n",
    "    if(n == 2):\n",
    "        break"
   ]
  },
  {
   "cell_type": "markdown",
   "metadata": {
    "colab_type": "text",
    "id": "-QExeExCHyku"
   },
   "source": [
    "## Train Model"
   ]
  },
  {
   "cell_type": "code",
   "execution_count": null,
   "metadata": {
    "colab": {
     "base_uri": "https://localhost:8080/",
     "height": 1000
    },
    "colab_type": "code",
    "id": "I2j6Wl8ieF9a",
    "outputId": "9ed7d5e2-c06f-497f-fe07-47c00b4e0c1d"
   },
   "outputs": [],
   "source": [
    "%%time\n",
    "# batch_size = 24\n",
    "batch_size = 2\n",
    "# iterations = 32\n",
    "iterations = 5\n",
    "epoch = 1\n",
    "patch_i = 32\n",
    "patch_j = 32\n",
    "loss_1, loss_2, loss_3 = [], [], []\n",
    "trainmetrics, valmetrics = [], []\n",
    "# patch_ones = np.ones((batch_size, patch_i, patch_j, 1), dtype='int8')\n",
    "# patch_zeros = np.zeros((batch_size, patch_i, patch_j, 1), dtype='int8')\n",
    "\n",
    "patch_ones = np.random.uniform(0.85, 1.0, ((batch_size, patch_i, patch_j, 1)))\n",
    "patch_zeros = np.zeros((batch_size, patch_i, patch_j, 1), dtype='int8')\n",
    "\n",
    "for e in range(epoch):\n",
    "    avgL1, avgL2, avgL3 = 0, 0, 0\n",
    "    for i in range(iterations):\n",
    "    \n",
    "        realImg, maskImg = next(preProc.data_gen(trainImages, imageDir, annotationDir, batch_size))\n",
    "        segImg = np.expand_dims(np.argmax(maskImg, 3), 3)\n",
    "        gImg = np.expand_dims(np.argmax(deepLab.predict(realImg), 3), 3)\n",
    "        dis_loss_1 = conditionalFCD.train_on_batch([realImg, segImg], patch_ones)\n",
    "        dis_loss_2 = conditionalFCD.train_on_batch([realImg, gImg], patch_zeros)\n",
    "        dis_loss = 0.5 * np.add(dis_loss_1, dis_loss_2)\n",
    "\n",
    "        loss_1.append(dis_loss)\n",
    "        avgL1 += dis_loss[0]\n",
    "\n",
    "        valid = patch_ones        \n",
    "        if(np.random.rand(1) > 0.95):\n",
    "            valid = patch_zeros\n",
    "\n",
    "        #Train cGAN   \n",
    "        cgan_loss = combined_model.train_on_batch([realImg], [valid, maskImg])\n",
    "        loss_2.append(cgan_loss)\n",
    "\n",
    "        avgL2 += cgan_loss[1]\n",
    "        avgL3 += cgan_loss[2]\n",
    "\n",
    "        if((i+1)%5 == 0):\n",
    "            print(\"Epoch %d/%d   iteration %d/%d  D-Acc %3d%%  D-Loss: %f  Total-Loss: %f  cGAN_Dis-Loss: %f cGAN_Gen-Loss: %f\" % (e+1, epoch, i+1, iterations, 100*dis_loss[1], dis_loss[0], cgan_loss[0], cgan_loss[1], cgan_loss[2]))\n",
    "        \n",
    "        if(i == iterations-1):\n",
    "            break\n",
    "    loss_3.append([avgL1/iterations, avgL2/iterations, avgL3/iterations])\n",
    "\n",
    "    #check train accuracy\n",
    "    # trainmetrics.append(get_all_metrics())\n",
    "    # valmetrics.append(get_all_metrics())\n",
    "\n",
    "    # predict_on_image(gen, e+1)\n",
    "#     if((e+1)%10==0):\n",
    "#         print(\"Save Models\")\n",
    "#         gen.save(\"gdrive/My Drive/IS_Gen_patch70.h5\")\n",
    "#         print(\"Generator Model Saved \", e+1)\n",
    "#         dis.save(\"gdrive/My Drive/IS_Dis_patch70.h5\")\n",
    "#         print(\"Discriminator Model Saved \", e+1)"
   ]
  },
  {
   "cell_type": "code",
   "execution_count": null,
   "metadata": {
    "colab": {
     "base_uri": "https://localhost:8080/",
     "height": 494
    },
    "colab_type": "code",
    "id": "6Amt7A_jT9vV",
    "outputId": "c857a770-a733-4363-93c7-bdb92b9cce63"
   },
   "outputs": [],
   "source": [
    "# from keras.models import load_model\n",
    "# gen = load_model('gdrive/My Drive/.h5')"
   ]
  },
  {
   "cell_type": "markdown",
   "metadata": {},
   "source": [
    "## Model Metrics"
   ]
  },
  {
   "cell_type": "code",
   "execution_count": null,
   "metadata": {
    "colab": {},
    "colab_type": "code",
    "id": "Z98ukXINV99z"
   },
   "outputs": [],
   "source": [
    "from metrics import Metrics\n",
    "labels = np.array(['background', 'class_1', 'class_2', 'class_3'])"
   ]
  },
  {
   "cell_type": "markdown",
   "metadata": {},
   "source": [
    "### Validation Metrics"
   ]
  },
  {
   "cell_type": "code",
   "execution_count": null,
   "metadata": {},
   "outputs": [],
   "source": [
    "valMet = Metrics(imageDir, annotationDir, valImages, height, width, deepLab, labels)"
   ]
  },
  {
   "cell_type": "code",
   "execution_count": null,
   "metadata": {},
   "outputs": [],
   "source": [
    "valMet.printAllMetrics()"
   ]
  },
  {
   "cell_type": "code",
   "execution_count": null,
   "metadata": {},
   "outputs": [],
   "source": [
    "_, axs = plt.subplots(3, 3, figsize=(10, 10))\n",
    "for n, d in enumerate(preProc.data_gen(valImages, imageDir, annotationDir, 1)):\n",
    "    _, h, w, c = d[0].shape\n",
    "    seg = np.argmax(deepLab.predict(d[0]), axis=3).reshape(h, w)\n",
    "    print(\"Actual Classes : \", np.unique(np.argmax(d[1],axis=3).reshape(h, w), return_counts=True))\n",
    "    print(\"Predicted Classes : \", np.unique(seg, return_counts=True))\n",
    "    axs[n][0].imshow(d[0].reshape(h, w, c))\n",
    "    axs[n][1].imshow(seg)\n",
    "    axs[n][2].imshow(np.argmax(d[1],axis=3).reshape(h, w))\n",
    "    if(n == 2):\n",
    "        break"
   ]
  },
  {
   "cell_type": "markdown",
   "metadata": {},
   "source": [
    "### Test Metrics"
   ]
  },
  {
   "cell_type": "code",
   "execution_count": null,
   "metadata": {
    "colab": {
     "base_uri": "https://localhost:8080/",
     "height": 332
    },
    "colab_type": "code",
    "id": "nSOD0xKSB_1U",
    "outputId": "ea69285d-4905-4a7e-bad6-3b3b6a6ee0e6"
   },
   "outputs": [],
   "source": [
    "testMet = Metrics(imageDir, annotationDir, testImages, height, width, deepLab, labels)"
   ]
  },
  {
   "cell_type": "code",
   "execution_count": null,
   "metadata": {},
   "outputs": [],
   "source": [
    "testMet.printAllMetrics()"
   ]
  },
  {
   "cell_type": "code",
   "execution_count": null,
   "metadata": {
    "colab": {},
    "colab_type": "code",
    "id": "tVZCxOIqlbYB"
   },
   "outputs": [],
   "source": [
    "_, axs = plt.subplots(1, 3, figsize=(10, 10))\n",
    "for n, d in enumerate(preProc.data_gen(testImages, imageDir, annotationDir, 1)):\n",
    "    _, h, w, c = d[0].shape\n",
    "    seg = np.argmax(deepLab.predict(d[0]), axis=3).reshape(h, w)\n",
    "    print(\"Actual Classes : \", np.unique(np.argmax(d[1],axis=3).reshape(h, w), return_counts=True))\n",
    "    print(\"Predicted Classes : \", np.unique(seg, return_counts=True))\n",
    "    axs[0].imshow(d[0].reshape(h, w, c))\n",
    "    axs[0].set_xlabel('Original')\n",
    "    axs[1].imshow(seg)\n",
    "    axs[1].set_xlabel('Predicted')\n",
    "    axs[2].imshow(np.argmax(d[1],axis=3).reshape(h, w))\n",
    "    axs[2].set_xlabel('Actual')\n",
    "    if(n == 0):\n",
    "        break"
   ]
  },
  {
   "cell_type": "code",
   "execution_count": null,
   "metadata": {
    "colab": {},
    "colab_type": "code",
    "id": "RZkCbf61jdqq"
   },
   "outputs": [],
   "source": []
  },
  {
   "cell_type": "code",
   "execution_count": null,
   "metadata": {
    "colab": {},
    "colab_type": "code",
    "id": "PcgGFxqAl-ip"
   },
   "outputs": [],
   "source": []
  }
 ],
 "metadata": {
  "accelerator": "GPU",
  "colab": {
   "collapsed_sections": [],
   "machine_shape": "hm",
   "name": "deepLab.ipynb",
   "provenance": [],
   "toc_visible": true
  },
  "kernelspec": {
   "display_name": "Python 3",
   "language": "python",
   "name": "python3"
  },
  "language_info": {
   "codemirror_mode": {
    "name": "ipython",
    "version": 3
   },
   "file_extension": ".py",
   "mimetype": "text/x-python",
   "name": "python",
   "nbconvert_exporter": "python",
   "pygments_lexer": "ipython3",
   "version": "3.7.4"
  }
 },
 "nbformat": 4,
 "nbformat_minor": 1
}
